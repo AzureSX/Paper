{
 "cells": [
  {
   "cell_type": "markdown",
   "id": "5c5ea7e5",
   "metadata": {},
   "source": [
    "# 设置随机种子"
   ]
  },
  {
   "cell_type": "code",
   "execution_count": null,
   "id": "660d8dea",
   "metadata": {},
   "outputs": [],
   "source": [
    "\"\"\"fix the random seed\"\"\"\n",
    "\n",
    "seed = 2020\n",
    "\n",
    "# 设置随机种子确保每次随机的结果相同\n",
    "random.seed(seed)\n",
    "np.random.seed(seed)\n",
    "torch.manual_seed(seed)\n",
    "torch.cuda.manual_seed(seed)\n",
    "torch.cuda.manual_seed_all(seed)\n",
    "\n",
    "torch.backends.cudnn.deterministic = True\n",
    "torch.backends.cudnn.benchmark = False"
   ]
  },
  {
   "cell_type": "markdown",
   "id": "63c1ff2d",
   "metadata": {},
   "source": [
    "* torch.backends.cudnn.deterministic = True 的作用是让CuDNN在卷积操作中使用确定性算法，以保证每次运行卷积操作时得到的结果都是相同的。这种设置会影响到卷积操作的性能，因为CuDNN的自动优化机制会被禁用\n",
    "* torch.backends.cudnn.benchmark = False 的作用是让CuDNN在卷积操作中使用固定算法，以保证每次运行卷积操作时得到的结果都是相同的"
   ]
  },
  {
   "cell_type": "code",
   "execution_count": null,
   "id": "3eb712ce",
   "metadata": {},
   "outputs": [],
   "source": []
  },
  {
   "cell_type": "markdown",
   "id": "ccd71a5e",
   "metadata": {},
   "source": [
    "# 读取参数"
   ]
  },
  {
   "cell_type": "code",
   "execution_count": null,
   "id": "f2e48e4e",
   "metadata": {},
   "outputs": [],
   "source": [
    "\"\"\"read args\"\"\"\n",
    "global args, device\n",
    "args = parse_args()\n",
    "device = torch.device(\"cuda:\" + str(args.gpu_id)) if args.cuda else torch.device(\"cpu\")"
   ]
  },
  {
   "cell_type": "code",
   "execution_count": null,
   "id": "011cd83a",
   "metadata": {},
   "outputs": [],
   "source": [
    "import argparse\n",
    "\n",
    "\n",
    "def parse_args():\n",
    "    parser = argparse.ArgumentParser(description=\"VRKG\")\n",
    "\n",
    "    # ===== dataset ===== #\n",
    "    parser.add_argument(\"--dataset\", nargs=\"?\", default=\"movie-MKR\", help=\"Choose a dataset:[last-fm, movie]\")\n",
    "    parser.add_argument(\n",
    "        \"--data_path\", nargs=\"?\", default=\"data/\", help=\"Input data path.\"\n",
    "    )\n",
    "\n",
    "    # ===== train ===== #\n",
    "    parser.add_argument('--epoch', type=int, default=1000, help='number of epochs')\n",
    "    parser.add_argument('--batch_size', type=int, default=1024, help='batch size')\n",
    "    parser.add_argument('--test_batch_size', type=int, default=128, help='batch size')\n",
    "    parser.add_argument('--dim', type=int, default=64, help='embedding size')\n",
    "    parser.add_argument('--l2', type=float, default=1e-5, help='l2 regularization weight')\n",
    "    parser.add_argument('--kg_l2loss_lambda', type=float, default=1e-5,\n",
    "                        help='Lambda when calculating KG l2 loss.')\n",
    "    parser.add_argument('--lr', type=float, default=1e-4, help='learning rate')\n",
    "    parser.add_argument(\"--inverse_r\", type=bool, default=True, help=\"consider inverse relation or not\")\n",
    "    parser.add_argument(\"--node_dropout\", type=bool, default=True, help=\"consider node dropout or not\")\n",
    "    parser.add_argument(\"--node_dropout_rate\", type=float, default=0.5, help=\"ratio of node dropout\")\n",
    "    parser.add_argument(\"--mess_dropout\", type=bool, default=True, help=\"consider message dropout or not\")\n",
    "    parser.add_argument(\"--mess_dropout_rate\", type=float, default=0.1, help=\"ratio of node dropout\")\n",
    "    parser.add_argument(\"--batch_test_flag\", type=bool, default=True, help=\"use gpu or not\")\n",
    "    parser.add_argument(\"--channel\", type=int, default=64, help=\"hidden channels for model\")\n",
    "    parser.add_argument(\"--cuda\", type=bool, default=True, help=\"use gpu or not\")\n",
    "    parser.add_argument(\"--gpu_id\", type=int, default=0, help=\"gpu id\")\n",
    "    parser.add_argument('--Ks', nargs='?', default='[1, 5, 10, 20]', help='Output sizes of every layer')\n",
    "\n",
    "    parser.add_argument('--test_flag', nargs='?', default='part',\n",
    "                        help='Specify the test type from {part, full}, indicating whether the reference is done in mini-batch')\n",
    "    parser.add_argument(\"--n_virtual\", type=int, default=3, help=\"number of latent factor for user favour\")\n",
    "    parser.add_argument(\"--ind\", type=str, default='distance', help=\"Independence modeling: mi, distance, cosine\")\n",
    "\n",
    "    # ===== relation context ===== #\n",
    "    parser.add_argument('--context_hops', type=int, default=2, help='number of context hops')\n",
    "    parser.add_argument('--n_iter', type=int, default=3, help='number of n_iter')\n",
    "\n",
    "    # ===== save model ===== #\n",
    "    parser.add_argument(\"--save\", type=bool, default=False, help=\"save model or not\")\n",
    "    parser.add_argument(\"--out_dir\", type=str, default=\"./weights/\", help=\"output directory for model\")\n",
    "\n",
    "    return parser.parse_args()"
   ]
  },
  {
   "cell_type": "markdown",
   "id": "af7c4612",
   "metadata": {},
   "source": [
    "读取预设的参数，并指定训练是使用gpu还是cpu"
   ]
  },
  {
   "cell_type": "code",
   "execution_count": null,
   "id": "cc0a7b83",
   "metadata": {},
   "outputs": [],
   "source": []
  },
  {
   "cell_type": "markdown",
   "id": "836ae25c",
   "metadata": {},
   "source": [
    "# 建立数据集"
   ]
  },
  {
   "cell_type": "code",
   "execution_count": null,
   "id": "5f7096cf",
   "metadata": {},
   "outputs": [],
   "source": [
    "\"\"\"build dataset\"\"\"\n",
    "\n",
    "train_cf, test_cf, user_dict, n_params, graph, triplets, relation_dict, mat_list = load_data(args)\n",
    "\n",
    "adj_mat_list, norm_mat_list, mean_mat_list = mat_list\n",
    "\n",
    "n_users = n_params['n_users']\n",
    "n_items = n_params['n_items']\n",
    "n_entities = n_params['n_entities']\n",
    "n_relations = n_params['n_relations']\n",
    "n_nodes = n_params['n_nodes']"
   ]
  },
  {
   "cell_type": "code",
   "execution_count": null,
   "id": "3e2649dd",
   "metadata": {},
   "outputs": [],
   "source": [
    "\"\"\"train_cf, test_cf, user_dict, n_params, graph, triplets, relation_dict, mat_list = load_data(args)\"\"\"\n",
    "\n",
    "def load_data(model_args):\n",
    "    \n",
    "    global args\n",
    "    \n",
    "    # 把args传给args\n",
    "    args = model_args\n",
    "    \n",
    "    # dataset路径\n",
    "    directory = args.data_path + args.dataset + '/'\n",
    "\n",
    "    print('reading train and test user-item set ...')\n",
    "    n_user, n_item, train_data, test_data = load_rating(args)\n",
    "    # n_entity, n_relation, adj_entity, adj_relation = load_kg(args)\n",
    "    \n",
    "    # 获取train和test集的协同过滤数据\n",
    "    train_cf = read_cf(train_data)\n",
    "    test_cf = read_cf(test_data)\n",
    "    remap_item(train_cf, test_cf)\n",
    "\n",
    "    print('combinating train_cf and kg data ...')\n",
    "    triplets = read_triplets(directory + 'kg_final.txt')\n",
    "\n",
    "    print('building the graph ...')\n",
    "    graph, relation_dict = build_graph(train_cf, triplets)\n",
    "\n",
    "    print('building the adj mat ...')\n",
    "    adj_mat_list, norm_mat_list, mean_mat_list = build_sparse_relational_graph(relation_dict)\n",
    "\n",
    "    n_params = {\n",
    "        'n_users': int(n_users),\n",
    "        'n_items': int(n_items),\n",
    "        'n_entities': int(n_entities),\n",
    "        'n_nodes': int(n_nodes),\n",
    "        'n_relations': int(n_relations)\n",
    "    }\n",
    "    user_dict = {\n",
    "        'train_user_set': train_user_set,\n",
    "        'test_user_set': test_user_set\n",
    "    }\n",
    "\n",
    "    return train_cf, test_cf, user_dict, n_params, graph, triplets, relation_dict,\\\n",
    "           [adj_mat_list, norm_mat_list, mean_mat_list]\n"
   ]
  },
  {
   "cell_type": "code",
   "execution_count": null,
   "id": "216d6ba3",
   "metadata": {},
   "outputs": [],
   "source": []
  },
  {
   "cell_type": "code",
   "execution_count": null,
   "id": "daf34445",
   "metadata": {},
   "outputs": [],
   "source": [
    "\"\"\"n_user, n_item, train_data, test_data = load_rating(args)\"\"\"\n",
    "\n",
    "def load_rating(args):\n",
    "    \n",
    "    print('reading training file and testing file ...')\n",
    "    directory = 'data/' + args.dataset\n",
    "    \n",
    "    # rating_np = np.loadtxt(rating_file + '.txt', dtype=np.int64)\n",
    "    with open(directory + \"/train_data.pkl\", 'rb') as fo:\n",
    "        train_data = pickle.load(fo, encoding='bytes')\n",
    "    with open(directory + \"/test_data.pkl\", 'rb') as fi:\n",
    "        test_data = pickle.load(fi, encoding='bytes')\n",
    "    rating_np = np.concatenate((train_data, test_data), axis=0)\n",
    "\n",
    "    # 因为数据索引从0开始，所以在计数时需要+1\n",
    "    n_user = max(set(rating_np[:, 0])) + 1  # the result = max(rating_np[:, 0]\n",
    "    n_item = max(set(rating_np[:, 1])) + 1  # the result = max(rating_np[:, 1]\n",
    "\n",
    "    return n_user, n_item, train_data, test_data\n"
   ]
  },
  {
   "cell_type": "markdown",
   "id": "8546374d",
   "metadata": {},
   "source": [
    "train_data(user-item): <br/> idx_0: user_id <br/> idx_1: item_id <br/> idx_2: flag <br/> 返回用户个数，项目个数，训练集，测试集"
   ]
  },
  {
   "cell_type": "code",
   "execution_count": null,
   "id": "f765f4cf",
   "metadata": {},
   "outputs": [],
   "source": []
  },
  {
   "cell_type": "code",
   "execution_count": null,
   "id": "e1a18130",
   "metadata": {},
   "outputs": [],
   "source": [
    "def read_cf(data_name):\n",
    "    \n",
    "    inter_mat = data_name[:, :2]\n",
    "    return np.array(inter_mat)"
   ]
  },
  {
   "cell_type": "markdown",
   "id": "5b9376da",
   "metadata": {},
   "source": [
    "这个函数的作用是读取data_name前两列数据，也就是user和item的交互数据，即协同过滤(Collaborative Filtering)模型的输入数据"
   ]
  },
  {
   "cell_type": "code",
   "execution_count": null,
   "id": "a79ce21a",
   "metadata": {},
   "outputs": [],
   "source": [
    "train_user_set = defaultdict(list)\n",
    "test_user_set = defaultdict(list)\n",
    "\n",
    "def remap_item(train_data, test_data):\n",
    "    \n",
    "    global n_users, n_items\n",
    "    \n",
    "    # 从训练集和测试集中找到user的最大id\n",
    "    n_users = max(max(train_data[:, 0]), max(test_data[:, 0])) + 1\n",
    "    # 从训练集和测试集中找到item的最大id\n",
    "    n_items = max(max(train_data[:, 1]), max(test_data[:, 1])) + 1\n",
    "\n",
    "    for u_id, i_id in train_data:\n",
    "        train_user_set[int(u_id)].append(int(i_id))\n",
    "    for u_id, i_id in test_data:\n",
    "        test_user_set[int(u_id)].append(int(i_id))"
   ]
  },
  {
   "attachments": {
    "image.png": {
     "image/png": "[encoded data removed]"
    }
   },
   "cell_type": "markdown",
   "id": "3033be9e",
   "metadata": {},
   "source": [
    "从两个集合中构造一个字典，即每个user交互的item的字典，如下图所示\n",
    "![image.png](attachment:image.png)"
   ]
  },
  {
   "cell_type": "code",
   "execution_count": null,
   "id": "656d51a7",
   "metadata": {},
   "outputs": [],
   "source": [
    "\"\"\"triplets = read_triplets(directory + 'kg_final.txt')\"\"\"\n",
    "\n",
    "def read_triplets(file_name):\n",
    "    \n",
    "    # 实体、关系、节点\n",
    "    global n_entities, n_relations, n_nodes\n",
    "    \n",
    "    # 对于读取txt文件\n",
    "    can_triplets_np = np.loadtxt(file_name, dtype=np.int32)\n",
    "    \n",
    "    # axis=0 表示对三元组中的每一列进行去重，即在所有行中去除重复的三元组，确保每个三元组只出现一次\n",
    "    can_triplets_np = np.unique(can_triplets_np, axis=0)\n",
    "\n",
    "    \n",
    "    # 同时考虑关系的主被动形式\n",
    "    if args.inverse_r:\n",
    "        \n",
    "        # get triplets with inverse direction like <entity, is-aspect-of, item>\n",
    "        inv_triplets_np = can_triplets_np.copy()\n",
    "        inv_triplets_np[:, 0] = can_triplets_np[:, 2]\n",
    "        inv_triplets_np[:, 2] = can_triplets_np[:, 0]\n",
    "        inv_triplets_np[:, 1] = can_triplets_np[:, 1] + max(can_triplets_np[:, 1]) + 1\n",
    "        \n",
    "        # consider two additional relations --- 'interact' and 'be interacted'\n",
    "        # 给每个关系值+1 去除0？\n",
    "        can_triplets_np[:, 1] = can_triplets_np[:, 1] + 1\n",
    "        inv_triplets_np[:, 1] = inv_triplets_np[:, 1] + 1\n",
    "        \n",
    "        # get full version of knowledge graph\n",
    "        # 将两个triplets合并组成完整的triplets\n",
    "        triplets = np.concatenate((can_triplets_np, inv_triplets_np), axis=0)\n",
    "    else:\n",
    "        # consider two additional relations --- 'interact'.\n",
    "        can_triplets_np[:, 1] = can_triplets_np[:, 1] + 1\n",
    "        triplets = can_triplets_np.copy()\n",
    "\n",
    "    n_entities = max(max(triplets[:, 0]), max(triplets[:, 2])) + 1  # including items + users\n",
    "    n_nodes = n_entities + n_users\n",
    "    n_relations = max(triplets[:, 1]) + 1\n",
    "\n",
    "    return triplets"
   ]
  },
  {
   "attachments": {
    "image-2.png": {
     "image/png": "[encoded data removed]"
    }
   },
   "cell_type": "markdown",
   "id": "e5d1a422",
   "metadata": {},
   "source": [
    "![image-2.png](attachment:image-2.png)\n",
    "* n_entities：实体个数\n",
    "* n_nodes：节点个数（entities + user）\n",
    "* n_relations：关系个数（主被动）\n",
    "* triplets：三元组（双向关系三元组）"
   ]
  },
  {
   "cell_type": "code",
   "execution_count": null,
   "id": "b5be5f48",
   "metadata": {},
   "outputs": [],
   "source": [
    "\"\"\"graph, relation_dict = build_graph(train_cf, triplets)\"\"\"\n",
    "\n",
    "def build_graph(train_data, triplets):\n",
    "    \n",
    "    #  MultiDiGraph() 方法可以创建一个可以存储重复边和自环的有向图\n",
    "    ckg_graph = nx.MultiDiGraph()\n",
    "    \n",
    "    # 创建一个空字典\n",
    "    rd = defaultdict(list)\n",
    "\n",
    "    print(\"Begin to load interaction triples ...\")\n",
    "    for u_id, i_id in tqdm(train_data, ascii=True):\n",
    "        \n",
    "        # 将所有u_id和i_id对存入rd中k=0的key中\n",
    "        rd[0].append([u_id, i_id])\n",
    "\n",
    "    print(\"\\nBegin to load knowledge graph triples ...\")\n",
    "    for h_id, r_id, t_id in tqdm(triplets, ascii=True):\n",
    "        \n",
    "        # 把头、尾实体和关系加入ckg_graph\n",
    "        ckg_graph.add_edge(h_id, t_id, key=r_id)\n",
    "        \n",
    "        # 在字典中添加以r_id为ket的头尾实体组，r_id以1开始\n",
    "        rd[r_id].append([h_id, t_id])\n",
    "\n",
    "    return ckg_graph, rd"
   ]
  },
  {
   "attachments": {
    "image-2.png": {
     "image/png": "[encoded data removed]"
    },
    "image.png": {
     "image/png": "[encoded data removed]"
    }
   },
   "cell_type": "markdown",
   "id": "4858604b",
   "metadata": {},
   "source": [
    "![image.png](attachment:image.png)\n",
    "![image-2.png](attachment:image-2.png)"
   ]
  },
  {
   "cell_type": "code",
   "execution_count": null,
   "id": "2c1e2b25",
   "metadata": {},
   "outputs": [],
   "source": [
    "\"\"\"adj_mat_list, norm_mat_list, mean_mat_list = build_sparse_relational_graph(relation_dict)\"\"\"\n",
    "\n",
    "def build_sparse_relational_graph(relation_dict):\n",
    "    \n",
    "    def _bi_norm_lap(adj):\n",
    "        # D^{-1/2}AD^{-1/2}\n",
    "        rowsum = np.array(adj.sum(1))\n",
    "\n",
    "        d_inv_sqrt = np.power(rowsum, -0.5).flatten()\n",
    "        d_inv_sqrt[np.isinf(d_inv_sqrt)] = 0.\n",
    "        d_mat_inv_sqrt = sp.diags(d_inv_sqrt)\n",
    "\n",
    "        # bi_lap = adj.dot(d_mat_inv_sqrt).transpose().dot(d_mat_inv_sqrt)\n",
    "        bi_lap = d_mat_inv_sqrt.dot(adj).dot(d_mat_inv_sqrt)\n",
    "        return bi_lap.tocoo()\n",
    "\n",
    "    def _si_norm_lap(adj):\n",
    "        # D^{-1}A\n",
    "        rowsum = np.array(adj.sum(1))\n",
    "\n",
    "        d_inv = np.power(rowsum, -1).flatten()\n",
    "        d_inv[np.isinf(d_inv)] = 0.\n",
    "        d_mat_inv = sp.diags(d_inv)\n",
    "\n",
    "        norm_adj = d_mat_inv.dot(adj)\n",
    "        return norm_adj.tocoo()\n",
    "\n",
    "    # 邻接矩阵列表\n",
    "    adj_mat_list = []\n",
    "    \n",
    "    print(\"Begin to build sparse relation matrix ...\")\n",
    "    \n",
    "    # 遍历relation_dict的key，也就是关系id\n",
    "    for r_id in tqdm(relation_dict.keys()):\n",
    "        # 取出当前关系下的元素值\n",
    "        np_mat = np.array(relation_dict[r_id])\n",
    "        # rd[0]存储的是train_data中所有u_id，i_id对\n",
    "        if r_id == 0:\n",
    "            # cf新开辟空间复制np_mat\n",
    "            cf = np_mat.copy()\n",
    "            # 提取出每行第2列加上user数目1872？\n",
    "            cf[:, 1] = cf[:, 1] + n_users  # [0, n_items) -> [n_users, n_users+n_items)\n",
    "            # 创建一个len(cf)长的一维数组\n",
    "            vals = [1.] * len(cf)\n",
    "            # 在(cf[:, 0], cf[:, 1])的位置上插入元素1，且adj_matrix大小为n_nodes x n_nodes\n",
    "            # 问题是cf中只有user和item的交互，为什么要包含所有entity呢？\n",
    "            adj = sp.coo_matrix((vals, (cf[:, 0], cf[:, 1])), shape=(n_nodes, n_nodes))\n",
    "        else:\n",
    "            # 当前关系下存在的\n",
    "            vals = [1.] * len(np_mat)\n",
    "            # 给每一个关系都建立一个稀疏矩阵\n",
    "            adj = sp.coo_matrix((vals, (np_mat[:, 0], np_mat[:, 1])), shape=(n_nodes, n_nodes))\n",
    "            \n",
    "        # 所有的稀疏矩阵存储    \n",
    "        adj_mat_list.append(adj)\n",
    "    \n",
    "    # 双侧标准化拉普拉斯矩阵\n",
    "    norm_mat_list = [_bi_norm_lap(mat) for mat in adj_mat_list]\n",
    "    # 单侧标准化拉普拉斯矩阵\n",
    "    mean_mat_list = [_si_norm_lap(mat) for mat in adj_mat_list]\n",
    "    \n",
    "    # interaction: user->item, [n_users, n_entities]\n",
    "    # 截取右上角1872x1872大小的矩阵\n",
    "    norm_mat_list[0] = norm_mat_list[0].tocsr()[:n_users, n_users:].tocoo()\n",
    "    mean_mat_list[0] = mean_mat_list[0].tocsr()[:n_users, n_users:].tocoo()\n",
    "\n",
    "    return adj_mat_list, norm_mat_list, mean_mat_list"
   ]
  },
  {
   "cell_type": "markdown",
   "id": "0f51a88b",
   "metadata": {},
   "source": [
    "# 整理数据"
   ]
  },
  {
   "cell_type": "code",
   "execution_count": null,
   "id": "48c9ea49",
   "metadata": {},
   "outputs": [],
   "source": [
    "    \"\"\"cf data\"\"\"\n",
    "    train_cf_pairs = torch.LongTensor(np.array([[cf[0], cf[1]] for cf in train_cf], np.int32))\n",
    "    test_cf_pairs = torch.LongTensor(np.array([[cf[0], cf[1]] for cf in test_cf], np.int32))\n",
    "\n",
    "    \"\"\"kg data\"\"\"\n",
    "    train_kg_pairs = torch.LongTensor(np.array([[kg[0], kg[1], kg[2]] for kg in triplets], np.int32))"
   ]
  },
  {
   "cell_type": "markdown",
   "id": "99654fee",
   "metadata": {},
   "source": [
    "将np.array数据转化为tensor数据类型"
   ]
  },
  {
   "cell_type": "markdown",
   "id": "565c8b2c",
   "metadata": {},
   "source": [
    "# 定义模型"
   ]
  },
  {
   "cell_type": "code",
   "execution_count": null,
   "id": "3f07d3be",
   "metadata": {},
   "outputs": [],
   "source": [
    "    \"\"\"define model\"\"\"\n",
    "    model = Recommender(n_params, args, graph, mean_mat_list[0]).to(device)"
   ]
  },
  {
   "cell_type": "markdown",
   "id": "891323d0",
   "metadata": {},
   "source": [
    "# 定义优化器"
   ]
  },
  {
   "cell_type": "code",
   "execution_count": null,
   "id": "c704bef5",
   "metadata": {},
   "outputs": [],
   "source": [
    "    \"\"\"define optimizer\"\"\"\n",
    "    optimizer = torch.optim.Adam(model.parameters(), lr=args.lr)\n",
    "\n",
    "    cur_best_pre_0 = 0\n",
    "    stopping_step = 0\n",
    "    best_epoch = 0\n",
    "    should_stop = False"
   ]
  },
  {
   "cell_type": "markdown",
   "id": "146f7a39",
   "metadata": {},
   "source": [
    "# 训练流程"
   ]
  },
  {
   "cell_type": "code",
   "execution_count": null,
   "id": "029e7559",
   "metadata": {},
   "outputs": [],
   "source": [
    " print(\"start training ...\")\n",
    "    for epoch in range(args.epoch):\n",
    "        \n",
    "        \"\"\"training CF\"\"\"\n",
    "        \n",
    "        # shuffle training data\n",
    "        # 打乱训练数据\n",
    "        index = np.arange(len(train_cf))\n",
    "        np.random.shuffle(index)\n",
    "        train_cf_pairs = train_cf_pairs[index]\n",
    "\n",
    "        \"\"\" training \"\"\"\n",
    "        \"\"\" train cf \"\"\"\n",
    "        # s = start\n",
    "        mf_loss_total, s = 0, 0\n",
    "        train_cf_s = time()\n",
    "        model.train()\n",
    "        flag = 'cf'\n",
    "        \n",
    "        # 当 s 和 args.batch_size 小于 len(train_cf)\n",
    "        while s + args.batch_size <= len(train_cf):\n",
    "            cf_batch = get_feed_dict(train_cf_pairs,\n",
    "                                     s, s + args.batch_size,\n",
    "                                     user_dict['train_user_set'])\n",
    "            \n",
    "            batch_loss, mf_loss, _ = model(cf_batch)\n",
    "\n",
    "            optimizer.zero_grad()\n",
    "            mf_loss.backward()\n",
    "            optimizer.step()\n",
    "\n",
    "            mf_loss_total += mf_loss.item()\n",
    "            s += args.batch_size\n",
    "\n",
    "        train_cf_e = time()\n",
    "\n",
    "        if epoch % 10 == 9 or epoch == 1:\n",
    "            \"\"\"testing\"\"\"\n",
    "            test_s_t = time()\n",
    "            model.eval()\n",
    "            ret = test(model, user_dict, n_params)\n",
    "            test_e_t = time()\n",
    "\n",
    "            train_res = PrettyTable()\n",
    "            train_res.field_names = [\"Epoch\", \"training time\", \"testing time\", \"recall\", \"ndcg\", \"precision\",\n",
    "                                     \"hit_ratio\", \"auc\", \"f1\"]\n",
    "            train_res.add_row(\n",
    "                [epoch, train_cf_e - train_cf_s, test_e_t - test_s_t, ret['recall'], ret['ndcg'], ret['precision'],\n",
    "                 ret['hit_ratio'], ret['auc'], ret['f1']]\n",
    "            )\n",
    "            print(train_res)\n",
    "\n",
    "            # *********************************************************\n",
    "            # early stopping when cur_best_pre_0 is decreasing for 10 successive steps.\n",
    "            cur_best_pre_0, stopping_step, should_stop, best_epoch = early_stopping(ret['recall'][0], cur_best_pre_0,\n",
    "                                                                                    stopping_step, best_epoch, epoch,\n",
    "                                                                                    expected_order='acc',\n",
    "                                                                                    flag_step=10)\n",
    "            if should_stop:\n",
    "                break\n",
    "\n",
    "            \"\"\"save weight\"\"\"\n",
    "            if ret['recall'][0] == cur_best_pre_0 and args.save:\n",
    "                torch.save(model.state_dict(), args.out_dir + 'model_' + args.dataset + '.ckpt')\n",
    "\n",
    "        else:\n",
    "            print('using time %.4f, training loss at epoch %d: %.4f' % (train_cf_e - train_cf_s, epoch, mf_loss_total))\n",
    "\n",
    "    print('stopping at %d, recall@20:%.4f' % (epoch, ret['recall'][0]))\n",
    "    print('the best epoch is at %d, recall@20:%.4f' % (best_epoch, cur_best_pre_0))"
   ]
  },
  {
   "cell_type": "markdown",
   "id": "c8780820",
   "metadata": {},
   "source": [
    "# #1 get_feed_dict()"
   ]
  },
  {
   "cell_type": "code",
   "execution_count": null,
   "id": "9489f332",
   "metadata": {},
   "outputs": [],
   "source": [
    "\"\"\"cf_batch = get_feed_dict(train_cf_pairs, s, s + args.batch_size, user_dict['train_user_set'])\"\"\"\n",
    "\n",
    "def get_feed_dict(train_entity_pairs, start, end, train_user_set):\n",
    "    \n",
    "    # 负采样操作：从0-n_items中随机生成一个数字，如果不在user已交互的items列表\n",
    "    def negative_sampling(user_item, train_user_set):\n",
    "        neg_items = []\n",
    "        for user, _ in user_item.cpu().numpy():\n",
    "            user = int(user)\n",
    "            while True:\n",
    "                neg_item = np.random.randint(low=0, high=n_items, size=1)[0]\n",
    "                if neg_item not in train_user_set[user]:\n",
    "                    break\n",
    "            neg_items.append(neg_item)\n",
    "        return neg_items\n",
    "\n",
    "    feed_dict = {}\n",
    "    # 获取本次batch中起始和结束idx\n",
    "    entity_pairs = train_entity_pairs[start:end].to(device)\n",
    "    # 获取第一列作为users\n",
    "    feed_dict['users'] = entity_pairs[:, 0]\n",
    "    # 获取第二列作为pos_items\n",
    "    feed_dict['pos_items'] = entity_pairs[:, 1]\n",
    "    feed_dict['neg_items'] = torch.LongTensor(negative_sampling(entity_pairs, train_user_set)).to(device)\n",
    "    return feed_dict"
   ]
  },
  {
   "cell_type": "markdown",
   "id": "e913997c",
   "metadata": {},
   "source": [
    "# #2 Recommender().init()"
   ]
  },
  {
   "cell_type": "code",
   "execution_count": null,
   "id": "3b1d0c6e",
   "metadata": {},
   "outputs": [],
   "source": [
    "\"\"\"model = Recommender(n_params, args, graph, mean_mat_list[0]).to(device)\"\"\"\n",
    "\n",
    " def __init__(self, data_config, args_config, graph, adj_mat):\n",
    "        super(Recommender, self).__init__()\n",
    "\n",
    "        self.n_users = data_config['n_users']\n",
    "        self.n_items = data_config['n_items']\n",
    "        self.n_relations = data_config['n_relations']\n",
    "        self.n_entities = data_config['n_entities']  # include items\n",
    "        self.n_nodes = data_config['n_nodes']  # n_users + n_entities\n",
    "\n",
    "        self.decay = args_config.l2\n",
    "        self.kg_l2loss_lambda = args_config.kg_l2loss_lambda\n",
    "        self.emb_size = args_config.dim\n",
    "        self.context_hops = args_config.context_hops\n",
    "        self.n_iter = args_config.n_iter\n",
    "        self.n_virtual = args_config.n_virtual  # The number of virtual relation types\n",
    "        self.node_dropout = args_config.node_dropout\n",
    "        self.node_dropout_rate = args_config.node_dropout_rate\n",
    "        self.mess_dropout = args_config.mess_dropout\n",
    "        self.mess_dropout_rate = args_config.mess_dropout_rate\n",
    "        self.ind = args_config.ind\n",
    "        self.device = torch.device(\"cuda:\" + str(args_config.gpu_id)) if args_config.cuda \\\n",
    "                                                                      else torch.device(\"cpu\")\n",
    "        self.adj_mat = adj_mat\n",
    "        self.graph = graph\n",
    "        self.edge_index, self.edge_type = self._get_edges(graph)\n",
    "\n",
    "        self._init_weight()\n",
    "        \n",
    "        # 把所有 nodes 和 virtual_relation 设定为可训练参数（来源于_init_weight()）\n",
    "        self.all_embed = nn.Parameter(self.all_embed)\n",
    "        self.latent_emb = nn.Parameter(self.latent_emb)\n",
    "\n",
    "        self.gcn = self._init_model()\n",
    "        \n"
   ]
  },
  {
   "cell_type": "markdown",
   "id": "32afb758",
   "metadata": {},
   "source": [
    "# ##2.1 Recommender()._get_edges()"
   ]
  },
  {
   "cell_type": "code",
   "execution_count": null,
   "id": "c8d4d54f",
   "metadata": {},
   "outputs": [],
   "source": [
    "\"\"\"self.edge_index, self.edge_type = self._get_edges(graph)\"\"\"\n",
    "\n",
    "def _get_edges(self, graph):\n",
    "    # 将graph转换为tensor数据\n",
    "    graph_tensor = torch.tensor(list(graph.edges))  # [-1, 3]\n",
    "    # 提取graph_tensor的前2列，也就是头实体和尾实体\n",
    "    index = graph_tensor[:, :-1]  # [-1, 2]\n",
    "    # 提取graph_tensor的第3列，也就是关系类型\n",
    "    type = graph_tensor[:, -1]  # [-1, 1]\n",
    "    # index转置了\n",
    "    return index.t().long().to(self.device), type.long().to(self.device)"
   ]
  },
  {
   "cell_type": "markdown",
   "id": "d65f5eaf",
   "metadata": {},
   "source": [
    "# ##2.2 Recommender()._init_weight()"
   ]
  },
  {
   "cell_type": "code",
   "execution_count": null,
   "id": "9b66deba",
   "metadata": {},
   "outputs": [],
   "source": [
    "\"\"\"self._init_weight()\"\"\"\n",
    "\n",
    "def _init_weight(self):\n",
    "    \n",
    "    # 将 PyTorch 中的 Xavier 初始化方法 nn.init.xavier_uniform_ 赋值给了变量 initializer\n",
    "    initializer = nn.init.xavier_uniform_\n",
    "    \n",
    "    # n_nodes 作为 tensor 的行数，emb_siez 作为大小作为emb的维度\n",
    "    self.all_embed = initializer(torch.empty(self.n_nodes, self.emb_size))\n",
    "    # n_virtual 是虚拟关系种类数量，emb_siez 作为大小作为emb的维度\n",
    "    self.latent_emb = initializer(torch.empty(self.n_virtual, self.emb_size))\n",
    "\n",
    "    # [n_users, n_entities] 将 matrix 转化为可计算的 tensor\n",
    "    self.interact_mat = self._convert_sp_mat_to_sp_tensor(self.adj_mat).to(self.device)"
   ]
  },
  {
   "cell_type": "markdown",
   "id": "362ea6e0",
   "metadata": {},
   "source": [
    "# ##2.3 Recommender()._init_model()"
   ]
  },
  {
   "cell_type": "code",
   "execution_count": null,
   "id": "495667de",
   "metadata": {},
   "outputs": [],
   "source": [
    "\"\"\"self.gcn = self._init_model()\"\"\"\n",
    "\n",
    "def _init_model(self):、\n",
    "    return GraphConv(\n",
    "                     #1 指定了模型的隐藏通道数目\n",
    "                     channel=self.emb_size,\n",
    "                     #2 上下文跳数\n",
    "                     n_hops=self.context_hops,\n",
    "                     #3 迭代次数（堆叠多少层？）\n",
    "                     n_iter=self.n_iter,\n",
    "                     #4 user个数\n",
    "                     n_users=self.n_users,\n",
    "                     #5 relation个数\n",
    "                     n_relations=self.n_relations,\n",
    "                     #6 虚拟关系个数\n",
    "                     n_virtual=self.n_virtual,\n",
    "                     #7 邻接矩阵\n",
    "                     adj_mat=self.adj_mat,\n",
    "                     #8 交互矩阵\n",
    "                     interact_mat=self.interact_mat,\n",
    "                     #9 衡量模型中不同元素之间的独立性，默认是distance\n",
    "                     ind=self.ind,\n",
    "                     #10 dropout率\n",
    "                     node_dropout_rate=self.node_dropout_rate,\n",
    "                     mess_dropout_rate=self.mess_dropout_rate)"
   ]
  },
  {
   "cell_type": "markdown",
   "id": "baee4e2e",
   "metadata": {},
   "source": [
    "# ###2.3.1 GraphConv().init()"
   ]
  },
  {
   "cell_type": "code",
   "execution_count": null,
   "id": "15daacdd",
   "metadata": {},
   "outputs": [],
   "source": [
    "def __init__(self, channel, n_hops, n_iter, n_users,\n",
    "             n_virtual, n_relations, adj_mat, interact_mat,\n",
    "             ind, node_dropout_rate=0.5, mess_dropout_rate=0.1):\n",
    "    super(GraphConv, self).__init__()\n",
    "\n",
    "    # 定义包含多个子模块的复杂模型\n",
    "    self.convs = nn.ModuleList()\n",
    "    # 邻接矩阵\n",
    "    self.adj_mat = adj_mat\n",
    "    # 交互矩阵\n",
    "    self.interact_mat = interact_mat\n",
    "    # 关系个数\n",
    "    self.n_relations = n_relations\n",
    "    # 用户个数\n",
    "    self.n_users = n_users\n",
    "    # 虚拟关系个数\n",
    "    self.n_virtual = n_virtual\n",
    "    # 丢弃率\n",
    "    self.node_dropout_rate = node_dropout_rate\n",
    "    self.mess_dropout_rate = mess_dropout_rate\n",
    "    # distance\n",
    "    self.ind = ind\n",
    "    # 控制softmax函数输出的概率分布的“平滑程度”\n",
    "    self.temperature = 0.2\n",
    "\n",
    "    initializer = nn.init.xavier_uniform_\n",
    "    \n",
    "    # 初始化一个形状为 (n_relations - 1, channel) 的张量\n",
    "    weight = initializer(torch.empty(n_relations - 1, channel))  # not include interact\n",
    "    self.weight = nn.Parameter(weight)  # [n_relations - 1, in_channel]\n",
    "\n",
    "    # n_hops = 2\n",
    "    for i in range(n_hops):\n",
    "        self.convs.append(Aggregator(n_users=n_users, n_virtual=n_virtual, n_iter=n_iter))\n",
    "\n",
    "    self.dropout = nn.Dropout(p=mess_dropout_rate)  # mess dropout"
   ]
  },
  {
   "cell_type": "markdown",
   "id": "7add6a09",
   "metadata": {},
   "source": [
    "#  ####2.3.1.1 Aggregator().init()"
   ]
  },
  {
   "cell_type": "code",
   "execution_count": null,
   "id": "4650f657",
   "metadata": {},
   "outputs": [],
   "source": [
    "\"\"\"self.convs.append(Aggregator(n_users=n_users, n_virtual=n_virtual, n_iter=n_iter))\"\"\"\n",
    "\n",
    "def __init__(self, n_users, n_virtual, n_iter):\n",
    "        super(Aggregator, self).__init__()\n",
    "        self.n_users = n_users\n",
    "        self.n_virtual = n_virtual\n",
    "        self.n_iter = n_iter\n",
    "        # What's this?\n",
    "        self.w = torch.nn.Parameter(torch.FloatTensor([0.4, 0.3, 0.3]), requires_grad=True)"
   ]
  },
  {
   "cell_type": "markdown",
   "id": "bf0d68b1",
   "metadata": {},
   "source": [
    "# #3 Recommender().forward()"
   ]
  },
  {
   "cell_type": "code",
   "execution_count": null,
   "id": "7a7c2dc7",
   "metadata": {},
   "outputs": [],
   "source": [
    "\"\"\"batch_loss, mf_loss, _ = model(cf_batch)\"\"\""
   ]
  },
  {
   "cell_type": "code",
   "execution_count": null,
   "id": "5c69f956",
   "metadata": {},
   "outputs": [],
   "source": [
    "    def forward(self, cf_batch):\n",
    "        \n",
    "        # 从cf_batch中提取对应数据\n",
    "        user = cf_batch['users']\n",
    "        pos_item = cf_batch['pos_items']\n",
    "        neg_item = cf_batch['neg_items']\n",
    "        \n",
    "        # 前 n_users 个是user没问题，但是后面的是entities不全是item？\n",
    "        user_emb = self.all_embed[:self.n_users, :]\n",
    "        item_emb = self.all_embed[self.n_users:, :]\n",
    "        # entity_gcn_emb: [n_entity, channel]\n",
    "        # user_gcn_emb: [n_users, channel]\n",
    "\n",
    "        entity_gcn_emb, user_gcn_emb, cor = self.gcn(user_emb,\n",
    "                                                     item_emb,\n",
    "                                                     self.latent_emb,\n",
    "                                                     self.edge_index,\n",
    "                                                     self.edge_type,\n",
    "                                                     self.adj_mat,\n",
    "                                                     self.interact_mat,\n",
    "                                                     mess_dropout=self.mess_dropout,\n",
    "                                                     node_dropout=self.node_dropout)\n",
    "        u_e = user_gcn_emb[user]\n",
    "        pos_e, neg_e = entity_gcn_emb[pos_item], entity_gcn_emb[neg_item]\n",
    "\n",
    "        return self.create_bpr_loss(u_e, pos_e, neg_e)"
   ]
  },
  {
   "cell_type": "markdown",
   "id": "02c5dca2",
   "metadata": {},
   "source": [
    "# ##3.1 GraphConv().forward()"
   ]
  },
  {
   "cell_type": "code",
   "execution_count": null,
   "id": "473fc3a7",
   "metadata": {},
   "outputs": [],
   "source": [
    "\"\"\"entity_gcn_emb, user_gcn_emb, cor = \n",
    "self.gcn(user_emb, item_emb, self.latent_emb, self.edge_index, self.edge_type, self.adj_mat, self.interact_mat, mess_dropout=self.mess_dropout, node_dropout=self.node_dropout)\"\"\"\n",
    "\n",
    "\"\"\"\n",
    "user_emb：用户embeddings\n",
    "entity_emb：实体embeddings\n",
    "latent_emb：虚拟关系embeddings\n",
    "edge_index：tensor，头/尾巴实体\n",
    "edge_type：tensor，关系\n",
    "adj_mat：mean_mat_list[0]\n",
    "interact_mat：tensor, adj_mat\n",
    "mess_dropout=True\n",
    "node_dropout=False\n",
    "\"\"\"\n",
    "\n",
    "def forward(self, user_emb, entity_emb, latent_emb, edge_index, edge_type,\n",
    "                adj_mat, interact_mat, mess_dropout=True, node_dropout=False):\n",
    "\n",
    "        \"\"\"node dropout\"\"\"\n",
    "        if node_dropout:\n",
    "            edge_index, edge_type = self._edge_sampling(edge_index, edge_type, self.node_dropout_rate)\n",
    "\n",
    "        entity_res_emb = entity_emb  # [n_entity, channel]\n",
    "        user_res_emb = user_emb  # [n_users, channel]\n",
    "        cor = 0\n",
    "        weight = self.weight\n",
    "        relation_ = torch.mm(weight, latent_emb.t())\n",
    "        relation_remap = torch.argmax(relation_, dim=1)\n",
    "        edge_type = relation_remap[edge_type - 1]\n",
    "\n",
    "        for i in range(len(self.convs)):\n",
    "            entity_emb, user_emb = self.convs[i](entity_emb, user_emb,\n",
    "                                                 edge_index, edge_type, adj_mat)\n",
    "\n",
    "            \"\"\"message dropout\"\"\"\n",
    "            if mess_dropout:\n",
    "                entity_emb = self.dropout(entity_emb)\n",
    "                user_emb = self.dropout(user_emb)\n",
    "            entity_emb = F.normalize(entity_emb)\n",
    "            user_emb = F.normalize(user_emb)\n",
    "\n",
    "            \"\"\"result emb\"\"\"\n",
    "            entity_res_emb = torch.add(entity_res_emb, entity_emb)\n",
    "            user_res_emb = torch.add(user_res_emb, user_emb)\n",
    "\n",
    "        return entity_res_emb, user_res_emb, cor"
   ]
  },
  {
   "cell_type": "markdown",
   "id": "51680744",
   "metadata": {},
   "source": [
    "# ###3.1.1 GraphConv()._edge_sampling()"
   ]
  },
  {
   "cell_type": "code",
   "execution_count": null,
   "id": "bd4a368e",
   "metadata": {},
   "outputs": [],
   "source": [
    "\"\"\"\n",
    "edge_index, edge_type = self._edge_sampling(edge_index, edge_type, self.node_dropout_rate)\n",
    "\"\"\"\n",
    "\n",
    "    def _edge_sampling(self, edge_index, edge_type, rate=0.5):\n",
    "        # edge_index: [2, -1]\n",
    "        # edge_type: [-1]\n",
    "        n_edges = edge_index.shape[1]\n",
    "        random_indices = np.random.choice(n_edges, size=int(n_edges * rate), replace=False)\n",
    "        return edge_index[:, random_indices], edge_type[random_indices]"
   ]
  },
  {
   "cell_type": "markdown",
   "id": "c4802efd",
   "metadata": {},
   "source": []
  },
  {
   "cell_type": "code",
   "execution_count": null,
   "id": "1ba3da30",
   "metadata": {},
   "outputs": [],
   "source": []
  },
  {
   "cell_type": "code",
   "execution_count": null,
   "id": "30ba6922",
   "metadata": {},
   "outputs": [],
   "source": []
  },
  {
   "cell_type": "code",
   "execution_count": null,
   "id": "aa88deb8",
   "metadata": {},
   "outputs": [],
   "source": []
  },
  {
   "cell_type": "code",
   "execution_count": null,
   "id": "d64ebc4d",
   "metadata": {},
   "outputs": [],
   "source": []
  },
  {
   "cell_type": "code",
   "execution_count": null,
   "id": "4b606a32",
   "metadata": {},
   "outputs": [],
   "source": []
  },
  {
   "cell_type": "code",
   "execution_count": null,
   "id": "e7dcebe1",
   "metadata": {},
   "outputs": [],
   "source": []
  },
  {
   "cell_type": "code",
   "execution_count": null,
   "id": "b0400e52",
   "metadata": {},
   "outputs": [],
   "source": []
  }
 ],
 "metadata": {
  "kernelspec": {
   "display_name": "Python 3 (ipykernel)",
   "language": "python",
   "name": "python3"
  },
  "language_info": {
   "codemirror_mode": {
    "name": "ipython",
    "version": 3
   },
   "file_extension": ".py",
   "mimetype": "text/x-python",
   "name": "python",
   "nbconvert_exporter": "python",
   "pygments_lexer": "ipython3",
   "version": "3.9.13"
  }
 },
 "nbformat": 4,
 "nbformat_minor": 5
}
