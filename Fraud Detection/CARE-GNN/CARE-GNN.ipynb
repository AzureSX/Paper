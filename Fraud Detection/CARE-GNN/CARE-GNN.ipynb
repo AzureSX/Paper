{
 "cells": [
  {
   "cell_type": "markdown",
   "id": "4760718e",
   "metadata": {},
   "source": [
    "# adj_list = [relation1, relation2, relation3]"
   ]
  },
  {
   "cell_type": "code",
   "execution_count": 9,
   "id": "fce79607",
   "metadata": {},
   "outputs": [
    {
     "name": "stdout",
     "output_type": "stream",
     "text": [
      "[[1 1 1 0 0 0 0 0 0 0]\n",
      " [1 0 0 0 0 1 0 0 0 0]\n",
      " [1 0 1 0 0 1 1 0 0 0]\n",
      " [0 0 0 0 0 0 0 0 0 0]\n",
      " [0 0 0 0 0 0 0 0 0 0]\n",
      " [0 1 1 0 0 0 0 0 0 1]\n",
      " [0 0 1 0 0 0 0 0 0 0]\n",
      " [0 0 0 0 0 0 0 0 0 0]\n",
      " [0 0 0 0 0 0 0 0 0 1]\n",
      " [0 0 0 0 0 1 0 0 1 0]]\n",
      "[defaultdict(<class 'set'>, {0: {0, 1, 2}, 1: {0, 1, 5}, 2: {0, 2, 5, 6}, 5: {1, 2, 5, 9}, 6: {2, 6}, 3: {3}, 4: {4}, 9: {8, 9, 5}, 7: {7}, 8: {8, 9}}), defaultdict(<class 'set'>, {0: {0, 2, 3, 4}, 2: {0, 1, 2, 9}, 3: {0, 3, 4, 7}, 4: {0, 1, 3, 4, 8}, 1: {1, 2, 4}, 9: {9, 2, 7}, 7: {3, 6, 7, 8, 9}, 8: {8, 4, 7}, 5: {5, 6}, 6: {5, 6, 7}}), defaultdict(<class 'set'>, {0: {0, 9, 5, 7}, 5: {0, 4, 5}, 7: {0, 1, 4, 7}, 9: {0, 9, 4, 6}, 1: {1, 6, 7}, 6: {1, 2, 4, 6, 8, 9}, 2: {2, 3, 6}, 3: {2, 3}, 4: {4, 5, 6, 7, 9}, 8: {8, 6}})]\n"
     ]
    }
   ],
   "source": [
    "import scipy.sparse as sp\n",
    "import numpy as np\n",
    "from collections import defaultdict\n",
    "\n",
    "\n",
    "# 随机生成一个10x10的邻接矩阵，其中非零元素的概率为0.3\n",
    "adjacency_matrix_1 = np.random.choice([0, 1], size=(10, 10), p=[0.7, 0.3])\n",
    "adjacency_matrix_1 = np.tril(adjacency_matrix_1) + np.tril(adjacency_matrix_1, -1).T\n",
    "print(adjacency_matrix_1)\n",
    "adjacency_matrix_2 = np.random.choice([0, 1], size=(10, 10), p=[0.7, 0.3])\n",
    "adjacency_matrix_2 = np.tril(adjacency_matrix_2) + np.tril(adjacency_matrix_2, -1).T\n",
    "adjacency_matrix_3 = np.random.choice([0, 1], size=(10, 10), p=[0.7, 0.3])\n",
    "adjacency_matrix_3 = np.tril(adjacency_matrix_3) + np.tril(adjacency_matrix_3, -1).T\n",
    "\n",
    "# 将邻接矩阵转换为稀疏矩阵格式\n",
    "sparse_matrix_1 = sp.csr_matrix(adjacency_matrix_1)\n",
    "sparse_matrix_2 = sp.csr_matrix(adjacency_matrix_2)\n",
    "sparse_matrix_3 = sp.csr_matrix(adjacency_matrix_3)\n",
    "\n",
    "temp_array = [sparse_matrix_1, sparse_matrix_2, sparse_matrix_3]\n",
    "adj_lists = []\n",
    "\n",
    "for relation in temp_array:\n",
    "    homo_adj = relation + sp.eye(relation.shape[0])\n",
    "    # create adj_list\n",
    "    adj_li = defaultdict(set)\n",
    "    edges = homo_adj.nonzero()\n",
    "    for index, node in enumerate(edges[0]):\n",
    "        adj_li[node].add(edges[1][index])\n",
    "        adj_li[edges[1][index]].add(node)\n",
    "    adj_lists.append(adj_li)\n",
    "\n",
    "print(adj_lists)"
   ]
  },
  {
   "cell_type": "markdown",
   "id": "c8b7f748",
   "metadata": {},
   "source": [
    "# InterAgg"
   ]
  },
  {
   "cell_type": "markdown",
   "id": "5f621057",
   "metadata": {},
   "source": [
    "## forward"
   ]
  },
  {
   "cell_type": "code",
   "execution_count": 11,
   "id": "fbe22942",
   "metadata": {},
   "outputs": [
    {
     "data": {
      "text/plain": [
       "[[{0, 1, 2}, {0, 1, 5}, {0, 2, 5, 6}],\n",
       " [{0, 2, 3, 4}, {1, 2, 4}, {0, 1, 2, 9}],\n",
       " [{0, 5, 7, 9}, {1, 6, 7}, {2, 3, 6}]]"
      ]
     },
     "execution_count": 11,
     "metadata": {},
     "output_type": "execute_result"
    }
   ],
   "source": [
    "to_neighs = []\n",
    "nodes = [0, 1, 2]\n",
    "# 对adj_list循环提取每一种关系，\n",
    "for adj_list in adj_lists:\n",
    "    to_neighs.append([set(adj_list[int(node)]) for node in nodes])\n",
    "\n",
    "to_neighs"
   ]
  },
  {
   "cell_type": "markdown",
   "id": "e128a6ed",
   "metadata": {},
   "source": [
    "上述代码每一个元素都是一个一个关系的节点邻居"
   ]
  },
  {
   "cell_type": "code",
   "execution_count": 15,
   "id": "09135009",
   "metadata": {},
   "outputs": [
    {
     "data": {
      "text/plain": [
       "{0, 1, 2, 3, 4, 5, 6, 7, 9}"
      ]
     },
     "execution_count": 15,
     "metadata": {},
     "output_type": "execute_result"
    }
   ],
   "source": [
    "unique_nodes = set.union(set.union(*to_neighs[0]), set.union(*to_neighs[1]),\n",
    "                         set.union(*to_neighs[2], set(nodes)))\n",
    "unique_nodes"
   ]
  },
  {
   "cell_type": "markdown",
   "id": "9ac05d50",
   "metadata": {},
   "source": [
    "返回所有邻居的节点标号（索引）"
   ]
  },
  {
   "cell_type": "code",
   "execution_count": null,
   "id": "fdb0c9e3",
   "metadata": {},
   "outputs": [],
   "source": [
    "batch_features = self.features(torch.cuda.LongTensor(list(unique_nodes)))"
   ]
  },
  {
   "cell_type": "markdown",
   "id": "0bf51d20",
   "metadata": {},
   "source": [
    "提取所有unique_nodes的feature"
   ]
  },
  {
   "cell_type": "code",
   "execution_count": null,
   "id": "59edf195",
   "metadata": {},
   "outputs": [],
   "source": []
  },
  {
   "cell_type": "code",
   "execution_count": null,
   "id": "dfba6e10",
   "metadata": {},
   "outputs": [],
   "source": []
  },
  {
   "cell_type": "code",
   "execution_count": null,
   "id": "b9a81799",
   "metadata": {},
   "outputs": [],
   "source": []
  }
 ],
 "metadata": {
  "kernelspec": {
   "display_name": "Python [conda env:pytorch] *",
   "language": "python",
   "name": "conda-env-pytorch-py"
  },
  "language_info": {
   "codemirror_mode": {
    "name": "ipython",
    "version": 3
   },
   "file_extension": ".py",
   "mimetype": "text/x-python",
   "name": "python",
   "nbconvert_exporter": "python",
   "pygments_lexer": "ipython3",
   "version": "3.6.13"
  }
 },
 "nbformat": 4,
 "nbformat_minor": 5
}
